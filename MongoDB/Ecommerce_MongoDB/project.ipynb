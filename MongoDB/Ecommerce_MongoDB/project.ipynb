{
 "cells": [
  {
   "cell_type": "code",
   "execution_count": 89,
   "metadata": {},
   "outputs": [],
   "source": [
    "import pymongo\n",
    "from pymongo import MongoClient"
   ]
  },
  {
   "cell_type": "code",
   "execution_count": 90,
   "metadata": {},
   "outputs": [],
   "source": [
    "try:\n",
    "    uri = \"mongodb://localhost:27017/\"\n",
    "    client = MongoClient(uri)\n",
    "    db = client[\"Ecommerce_NOSQL_mongodb\"]\n",
    "except Exception as e:\n",
    "    raise Exception(\n",
    "        f\"The following error occurred: {e}\")"
   ]
  },
  {
   "cell_type": "code",
   "execution_count": 91,
   "metadata": {},
   "outputs": [],
   "source": [
    "orders = db.create_collection(\"orders\")\n",
    "products = db.create_collection(\"products\")\n",
    "order_items = db.create_collection(\"order_items\")\n",
    "customers = db.create_collection(\"customers\")"
   ]
  },
  {
   "cell_type": "code",
   "execution_count": 92,
   "metadata": {},
   "outputs": [
    {
     "data": {
      "text/plain": [
       "['products', 'customers', 'order_items', 'orders']"
      ]
     },
     "execution_count": 92,
     "metadata": {},
     "output_type": "execute_result"
    }
   ],
   "source": [
    "db.list_collection_names()"
   ]
  },
  {
   "cell_type": "markdown",
   "metadata": {},
   "source": [
    "CREATING VALIDATORS"
   ]
  },
  {
   "cell_type": "code",
   "execution_count": 93,
   "metadata": {},
   "outputs": [],
   "source": [
    "products_validator = {\n",
    "    \"$jsonSchema\": {\n",
    "        \"bsonType\": \"object\",\n",
    "        \"title\": \"'products' Object Validation\",\n",
    "        \"required\": [\"products_name\", \"stock_quantity\", \"category\", \"price\"],\n",
    "        \"properties\": {\n",
    "            \"products_name\": {\n",
    "                \"bsonType\": \"string\",\n",
    "                \"description\": \"'products_name' must be a string and is required\"\n",
    "            },\n",
    "            \"stock_quantity\": {\n",
    "                \"bsonType\": \"double\",\n",
    "                \"description\": \"'stock_quantity' must be a double and is required\"\n",
    "            },\n",
    "            \"category\": {\n",
    "                \"bsonType\": \"string\",\n",
    "                \"description\": \"'category' must be a string and is required\"\n",
    "            },\n",
    "            \"price\": {\n",
    "                \"bsonType\": \"int\",\n",
    "                \"description\": \"'price' must be an integer and is required\"\n",
    "            }\n",
    "        }\n",
    "    }\n",
    "}"
   ]
  },
  {
   "cell_type": "code",
   "execution_count": 94,
   "metadata": {},
   "outputs": [],
   "source": [
    "customer_validator = {\n",
    "            \"$jsonSchema\": {\n",
    "                    \"bsonType\":\"object\",\n",
    "                    \"title\": \"'customers' Object Validation\",\n",
    "                    \"required\": [ \"name\", \"email\", \"phone_number\", \"address\" ],\n",
    "                    \"properties\": {\n",
    "                            \"name\": {\n",
    "                                \"bsonType\": \"string\",\n",
    "                                \"description\": \"name' must be a string and is required\"\n",
    "                                    },\n",
    "                            \"email\": {\n",
    "                                \"bsonType\":\"string\",\n",
    "                                \"description\": \"'email' must be a string\"\n",
    "                                     },\n",
    "                            \"phone_number\": {\n",
    "                                 \"bsonType\":  \"string\",\n",
    "                                 \"description\": \"phone number must be a string\"\n",
    "                                            }\n",
    "         }\n",
    "      }\n",
    "   }"
   ]
  },
  {
   "cell_type": "code",
   "execution_count": 95,
   "metadata": {},
   "outputs": [],
   "source": [
    "order_items_validator = { \n",
    "            \"$jsonSchema\": {\n",
    "                    \"bsonType\": \"object\",\n",
    "                    \"title\": \"'order_items' Object Validation\",\n",
    "                    \"required\": [\"quantity\", \"price\" ],\n",
    "                    \"properties\": {\n",
    "                            \"quantity\": {\n",
    "                                \"bsonType\": \"double\",\n",
    "                                \"description\": \"name' must be a string and is required\"\n",
    "                                        },\n",
    "                            \"price\": {\n",
    "                                \"bsonType\":\"int\",\n",
    "                                \"description\": \"price must be an integar\"\n",
    "                                     }\n",
    "         }\n",
    "      }\n",
    "   }"
   ]
  },
  {
   "cell_type": "code",
   "execution_count": 96,
   "metadata": {},
   "outputs": [],
   "source": [
    "orders_validator = {\n",
    "            \"$jsonSchema\": {\n",
    "                    \"bsonType\": \"object\",\n",
    "                    \"title\": \"'orders' Object Validation\",\n",
    "                    \"required\": [ \"order_date\", \"total_amount\" ],\n",
    "                    \"properties\": {\n",
    "                            \"order_date\": {\n",
    "                                \"bsonType\": \"date\",\n",
    "                                \"description\": \"must be a date and is required\"\n",
    "                                },\n",
    "                            \"total_amount\": {\n",
    "                                \"bsonType\":\"double\",\n",
    "                                \"description\": \"total amount can be double\"\n",
    "                                }\n",
    "         }\n",
    "      }\n",
    "   }"
   ]
  },
  {
   "cell_type": "markdown",
   "metadata": {},
   "source": [
    "VALIDATING THE COLLECTIONS"
   ]
  },
  {
   "cell_type": "code",
   "execution_count": 97,
   "metadata": {},
   "outputs": [
    {
     "data": {
      "text/plain": [
       "{'ok': 1.0}"
      ]
     },
     "execution_count": 97,
     "metadata": {},
     "output_type": "execute_result"
    }
   ],
   "source": [
    "db.command({\n",
    "    \"collMod\": \"products\",\n",
    "    \"validator\": products_validator,\n",
    "    \"validationLevel\": \"strict\"\n",
    "})"
   ]
  },
  {
   "cell_type": "code",
   "execution_count": 98,
   "metadata": {},
   "outputs": [
    {
     "data": {
      "text/plain": [
       "{'ok': 1.0}"
      ]
     },
     "execution_count": 98,
     "metadata": {},
     "output_type": "execute_result"
    }
   ],
   "source": [
    "db.command({\n",
    "    \"collMod\": \"customers\",\n",
    "    \"validator\": customer_validator,\n",
    "    \"validationLevel\": \"strict\"\n",
    "})"
   ]
  },
  {
   "cell_type": "code",
   "execution_count": 99,
   "metadata": {},
   "outputs": [
    {
     "data": {
      "text/plain": [
       "{'ok': 1.0}"
      ]
     },
     "execution_count": 99,
     "metadata": {},
     "output_type": "execute_result"
    }
   ],
   "source": [
    "db.command({\n",
    "    \"collMod\": \"order_items\",\n",
    "    \"validator\": order_items_validator,\n",
    "    \"validationLevel\": \"strict\"\n",
    "})"
   ]
  },
  {
   "cell_type": "code",
   "execution_count": 100,
   "metadata": {},
   "outputs": [
    {
     "data": {
      "text/plain": [
       "{'ok': 1.0}"
      ]
     },
     "execution_count": 100,
     "metadata": {},
     "output_type": "execute_result"
    }
   ],
   "source": [
    "db.command({\n",
    "    \"collMod\": \"orders\",\n",
    "    \"validator\": orders_validator,\n",
    "    \"validationLevel\": \"strict\"\n",
    "})"
   ]
  },
  {
   "cell_type": "markdown",
   "metadata": {},
   "source": [
    "GENERATING FAKE DATA FOR THE COLLECTIONS AND INSERTING THEM INTO THE COLLECTIONS"
   ]
  },
  {
   "cell_type": "code",
   "execution_count": 101,
   "metadata": {},
   "outputs": [],
   "source": [
    "from faker import Faker\n",
    "import random\n",
    "\n",
    "\n",
    "AltschoolFake = Faker()\n",
    "\n",
    "\n",
    "# Generate random data\n",
    "def generate_customers_data(rows):\n",
    "    customers_data = []\n",
    "    for i in range(rows):\n",
    "        name = AltschoolFake.name()\n",
    "        email = AltschoolFake.email()\n",
    "        address = AltschoolFake.address()\n",
    "        phone_number = AltschoolFake.numerify('##########')\n",
    "        customers_data.append({ \n",
    "            \"name\": name,\n",
    "            \"email\": email,\n",
    "            \"phone_number\": phone_number,\n",
    "            \"address\" : address\n",
    "        })\n",
    "    return customers_data\n",
    "\n",
    "data_for_customers = generate_customers_data(50)\n",
    "c = customers.insert_many(data_for_customers)\n",
    "customer_ids = c.inserted_ids"
   ]
  },
  {
   "cell_type": "code",
   "execution_count": 102,
   "metadata": {},
   "outputs": [],
   "source": [
    "categories = [\n",
    "    \"Electronics\", \"Home Appliances\", \"Furniture\", \"Clothing\",\n",
    "    \"Sports\", \"Toys\", \"Books\", \"Beauty\", \"Automotive\", \"Groceries\"\n",
    "]\n",
    "def generate_products_data(rows):\n",
    "    products_data = []\n",
    "    for i in range(rows):\n",
    "        products_name = AltschoolFake.word()\n",
    "        category = random.choice(categories)\n",
    "        price = random.randint(1,100)\n",
    "        stock_quantity = float(random.randint(1, 100))\n",
    "        products_data.append({ \n",
    "            \"products_name\": products_name,\n",
    "            \"category\": category,\n",
    "            \"price\": price,\n",
    "            \"stock_quantity\" : stock_quantity\n",
    "        })\n",
    "    return products_data\n",
    "\n",
    "\n",
    "data_for_products = generate_products_data(50)\n",
    "p = products.insert_many(data_for_products)\n",
    "products_id = c.inserted_ids"
   ]
  },
  {
   "cell_type": "code",
   "execution_count": 103,
   "metadata": {},
   "outputs": [],
   "source": [
    "def generate_orders_data(customer_ids, rows):\n",
    "    orders_data = []\n",
    "    for i in range(rows):\n",
    "        customer_id = random.choice(customer_ids)\n",
    "        order_date = AltschoolFake.date_time_this_year()\n",
    "        total_amount = float(random.randint(100, 10000))\n",
    "        orders_data.append({ \n",
    "            \"customer_id\" : customer_id,\n",
    "            \"order_date\": order_date,\n",
    "            \"total_amount\": total_amount,\n",
    "        })\n",
    "    return orders_data\n",
    "\n",
    "\n",
    "data_for_orders = generate_orders_data(customer_ids, 50) \n",
    "o = orders.insert_many(data_for_orders)\n",
    "orders_id = o.inserted_ids"
   ]
  },
  {
   "cell_type": "code",
   "execution_count": 104,
   "metadata": {},
   "outputs": [
    {
     "data": {
      "text/plain": [
       "InsertManyResult([ObjectId('6767530de7abd48a2461ff8f'), ObjectId('6767530de7abd48a2461ff90'), ObjectId('6767530de7abd48a2461ff91'), ObjectId('6767530de7abd48a2461ff92'), ObjectId('6767530de7abd48a2461ff93'), ObjectId('6767530de7abd48a2461ff94'), ObjectId('6767530de7abd48a2461ff95'), ObjectId('6767530de7abd48a2461ff96'), ObjectId('6767530de7abd48a2461ff97'), ObjectId('6767530de7abd48a2461ff98'), ObjectId('6767530de7abd48a2461ff99'), ObjectId('6767530de7abd48a2461ff9a'), ObjectId('6767530de7abd48a2461ff9b'), ObjectId('6767530de7abd48a2461ff9c'), ObjectId('6767530de7abd48a2461ff9d'), ObjectId('6767530de7abd48a2461ff9e'), ObjectId('6767530de7abd48a2461ff9f'), ObjectId('6767530de7abd48a2461ffa0'), ObjectId('6767530de7abd48a2461ffa1'), ObjectId('6767530de7abd48a2461ffa2'), ObjectId('6767530de7abd48a2461ffa3'), ObjectId('6767530de7abd48a2461ffa4'), ObjectId('6767530de7abd48a2461ffa5'), ObjectId('6767530de7abd48a2461ffa6'), ObjectId('6767530de7abd48a2461ffa7'), ObjectId('6767530de7abd48a2461ffa8'), ObjectId('6767530de7abd48a2461ffa9'), ObjectId('6767530de7abd48a2461ffaa'), ObjectId('6767530de7abd48a2461ffab'), ObjectId('6767530de7abd48a2461ffac'), ObjectId('6767530de7abd48a2461ffad'), ObjectId('6767530de7abd48a2461ffae'), ObjectId('6767530de7abd48a2461ffaf'), ObjectId('6767530de7abd48a2461ffb0'), ObjectId('6767530de7abd48a2461ffb1'), ObjectId('6767530de7abd48a2461ffb2'), ObjectId('6767530de7abd48a2461ffb3'), ObjectId('6767530de7abd48a2461ffb4'), ObjectId('6767530de7abd48a2461ffb5'), ObjectId('6767530de7abd48a2461ffb6'), ObjectId('6767530de7abd48a2461ffb7'), ObjectId('6767530de7abd48a2461ffb8'), ObjectId('6767530de7abd48a2461ffb9'), ObjectId('6767530de7abd48a2461ffba'), ObjectId('6767530de7abd48a2461ffbb'), ObjectId('6767530de7abd48a2461ffbc'), ObjectId('6767530de7abd48a2461ffbd'), ObjectId('6767530de7abd48a2461ffbe'), ObjectId('6767530de7abd48a2461ffbf'), ObjectId('6767530de7abd48a2461ffc0')], acknowledged=True)"
      ]
     },
     "execution_count": 104,
     "metadata": {},
     "output_type": "execute_result"
    }
   ],
   "source": [
    "def generate_order_items_data(orders_id, products_id, rows):\n",
    "    order_items_data = []\n",
    "    for i in range(rows):\n",
    "        order_id = random.choice(orders_id)\n",
    "        product_id = random.choice(products_id)\n",
    "        quantity = float(random.randint(0, 100))\n",
    "        price = random.randint(1, 1000)\n",
    "        order_items_data.append({\n",
    "            \"order_id\" : order_id,\n",
    "            \"product_id\" : product_id,\n",
    "            \"quantity\" : quantity,\n",
    "            \"price\": price\n",
    "        })\n",
    "    return order_items_data\n",
    "    \n",
    "\n",
    "data_for_order_items = generate_order_items_data(orders_id, products_id, 50)\n",
    "order_items.insert_many(data_for_order_items)"
   ]
  }
 ],
 "metadata": {
  "kernelspec": {
   "display_name": "Python 3",
   "language": "python",
   "name": "python3"
  },
  "language_info": {
   "codemirror_mode": {
    "name": "ipython",
    "version": 3
   },
   "file_extension": ".py",
   "mimetype": "text/x-python",
   "name": "python",
   "nbconvert_exporter": "python",
   "pygments_lexer": "ipython3",
   "version": "3.12.3"
  }
 },
 "nbformat": 4,
 "nbformat_minor": 2
}
