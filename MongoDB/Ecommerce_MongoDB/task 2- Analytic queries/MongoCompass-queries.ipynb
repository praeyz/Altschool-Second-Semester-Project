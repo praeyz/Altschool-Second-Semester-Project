{
 "cells": [
  {
   "cell_type": "markdown",
   "metadata": {},
   "source": [
    "1. Which product categories generate the highest revenue?\n",
    "-Use $group to calculate revenue by category.\n",
    "-Sort the results in descending order.\n"
   ]
  },
  {
   "cell_type": "code",
   "execution_count": null,
   "metadata": {
    "vscode": {
     "languageId": "plaintext"
    }
   },
   "outputs": [],
   "source": [
    "db.getCollection('order_items').aggregate(\n",
    "  [\n",
    "    {\n",
    "      $lookup: {\n",
    "        from: 'products',\n",
    "        localField: 'product_id',\n",
    "        foreignField: '_id',\n",
    "        as: 'product_details'\n",
    "      }\n",
    "    },\n",
    "    {\n",
    "      $unwind: {\n",
    "        path: '$product_details',\n",
    "        includeArrayIndex: 'includeArrayIndex',\n",
    "        preserveNullAndEmptyArrays: true\n",
    "      }\n",
    "    },\n",
    "    {\n",
    "      $sort: {\n",
    "        order_id: 1,\n",
    "        'product_details.price': -1\n",
    "      }\n",
    "    },\n",
    "    {\n",
    "      $group: {\n",
    "        _id: '$order_id',\n",
    "        top_products: {\n",
    "          $push: {\n",
    "            product_id: '$product_id',\n",
    "            products_name:\n",
    "              '$product_details.products_name',\n",
    "            price: '$product_details.price'\n",
    "          }\n",
    "        }\n",
    "      }\n",
    "    },\n",
    "    {\n",
    "      $project: {\n",
    "        top_products: {\n",
    "          $slice: ['$top_products', 3]\n",
    "        }\n",
    "      }\n",
    "    }\n",
    "  ],\n",
    "  { maxTimeMS: 60000, allowDiskUse: true }\n",
    ");"
   ]
  },
  {
   "cell_type": "markdown",
   "metadata": {},
   "source": [
    "2.What is the average delivery time for orders?\n",
    "-Calculate the difference between order_date and delivery_date.\n",
    "-Use $group to calculate the average delivery time.\n"
   ]
  },
  {
   "cell_type": "code",
   "execution_count": null,
   "metadata": {
    "vscode": {
     "languageId": "plaintext"
    }
   },
   "outputs": [],
   "source": [
    "db.getCollection('orders').aggregate(\n",
    "  [\n",
    "    {\n",
    "      $project: {\n",
    "        order_id: 1,\n",
    "        customer_id: 1,\n",
    "        order_date: 1,\n",
    "        delivery_date: 1,\n",
    "        delivery_time: {\n",
    "          $subtract: [\n",
    "            '$delivery_date',\n",
    "            '$order_date'\n",
    "          ]\n",
    "        }\n",
    "      }\n",
    "    },\n",
    "    {\n",
    "      $group: {\n",
    "        _id: 'delievery_time',\n",
    "        average_delivery_time: {\n",
    "          $avg: '$delivery_time'\n",
    "        }\n",
    "      }\n",
    "    },\n",
    "    {\n",
    "      $project: {\n",
    "        average_delivery_time_in_days: {\n",
    "          $divide: [\n",
    "            '$average_delivery_time',\n",
    "            86400000\n",
    "          ]\n",
    "        },\n",
    "        average_delivery_time_in_hours: {\n",
    "          $mod: [\n",
    "            {\n",
    "              $divide: [\n",
    "                '$average_delivery_time',\n",
    "                3600000\n",
    "              ]\n",
    "            },\n",
    "            24\n",
    "          ]\n",
    "        },\n",
    "        average_delivery_time_in_minutes: {\n",
    "          $mod: [\n",
    "            {\n",
    "              $divide: [\n",
    "                '$average_delivery_time',\n",
    "                60000\n",
    "              ]\n",
    "            },\n",
    "            60\n",
    "          ]\n",
    "        },\n",
    "        average_delivery_time_in_seconds: {\n",
    "          $mod: [\n",
    "            {\n",
    "              $divide: [\n",
    "                '$average_delivery_time',\n",
    "                1000\n",
    "              ]\n",
    "            },\n",
    "            60\n",
    "          ]\n",
    "        }\n",
    "      }\n",
    "    }\n",
    "  ],\n",
    "  { maxTimeMS: 60000, allowDiskUse: true }\n",
    ");"
   ]
  },
  {
   "cell_type": "markdown",
   "metadata": {},
   "source": [
    "3.Which states have the highest number of customers?\n",
    "-Use $group to count customers by state.\n",
    "-Sort the results in descending order."
   ]
  },
  {
   "cell_type": "code",
   "execution_count": null,
   "metadata": {
    "vscode": {
     "languageId": "plaintext"
    }
   },
   "outputs": [],
   "source": [
    "db.getCollection('customers').aggregate(\n",
    "  [\n",
    "    {\n",
    "      $project: {\n",
    "        address_parts: {\n",
    "          $split: ['$address', ', ']\n",
    "        }\n",
    "      }\n",
    "    },\n",
    "    {\n",
    "      $project: {\n",
    "        city: {\n",
    "          $arrayElemAt: ['$address_parts', 0]\n",
    "        },\n",
    "        state: {\n",
    "          $arrayElemAt: ['$address_parts', 1]\n",
    "        },\n",
    "        zip_code: {\n",
    "          $arrayElemAt: ['$address_parts', 2]\n",
    "        }\n",
    "      }\n",
    "    },\n",
    "    {\n",
    "      $group: {\n",
    "        _id: '$city',\n",
    "        customer_count: { $sum: 1 }\n",
    "      }\n",
    "    },\n",
    "    { $sort: { customer_count: -1 } }\n",
    "  ],\n",
    "  { maxTimeMS: 60000, allowDiskUse: true }\n",
    ");"
   ]
  },
  {
   "cell_type": "markdown",
   "metadata": {},
   "source": [
    "4.What are the top 3 most expensive products sold in each order?\n",
    "-Use $lookup and $sort to find the top products in each order.\n"
   ]
  },
  {
   "cell_type": "code",
   "execution_count": null,
   "metadata": {
    "vscode": {
     "languageId": "plaintext"
    }
   },
   "outputs": [],
   "source": [
    "db.getCollection('order_items').aggregate(\n",
    "  [\n",
    "    {\n",
    "      $lookup: {\n",
    "        from: 'products',\n",
    "        localField: 'product_id',\n",
    "        foreignField: '_id',\n",
    "        as: 'product_details'\n",
    "      }\n",
    "    },\n",
    "    {\n",
    "      $unwind: {\n",
    "        path: '$product_details',\n",
    "        includeArrayIndex: 'includeArrayIndex',\n",
    "        preserveNullAndEmptyArrays: true\n",
    "      }\n",
    "    },\n",
    "    {\n",
    "      $sort: {\n",
    "        order_id: 1,\n",
    "        'product_details.price': -1\n",
    "      }\n",
    "    },\n",
    "    {\n",
    "      $group: {\n",
    "        _id: '$order_id',\n",
    "        top_products: {\n",
    "          $push: {\n",
    "            product_id: '$product_id',\n",
    "            products_name:\n",
    "              '$product_details.products_name',\n",
    "            price: '$product_details.price'\n",
    "          }\n",
    "        }\n",
    "      }\n",
    "    },\n",
    "    {\n",
    "      $project: {\n",
    "        top_products: {\n",
    "          $slice: ['$top_products', 3]\n",
    "        }\n",
    "      }\n",
    "    }\n",
    "  ],\n",
    "  { maxTimeMS: 60000, allowDiskUse: true }\n",
    ");"
   ]
  }
 ],
 "metadata": {
  "language_info": {
   "name": "python"
  }
 },
 "nbformat": 4,
 "nbformat_minor": 2
}
